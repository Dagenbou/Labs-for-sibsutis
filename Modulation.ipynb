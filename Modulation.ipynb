{
 "cells": [
  {
   "cell_type": "code",
   "execution_count": 1,
   "id": "c699f654",
   "metadata": {},
   "outputs": [
    {
     "name": "stdout",
     "output_type": "stream",
     "text": [
      "1. Generated array =  [1, 0, 0, 1, 0, 0, 1, 0, 1, 0]\n",
      "Start modulation\n",
      "2. Modulated array =  [(-0.7071067811865475+0.7071067811865475j), (0.7071067811865475-0.7071067811865475j), (0.7071067811865475+0.7071067811865475j), (-0.7071067811865475+0.7071067811865475j), (-0.7071067811865475+0.7071067811865475j)]\n"
     ]
    }
   ],
   "source": [
    "import random\n",
    "import math\n",
    "\n",
    "def randomDataGenerator(size):\n",
    "    data = [random.randint(0, 1) for i in range(size)]\n",
    "    return data\n",
    "def QPSK(data_array):\n",
    "    if (len(data_array) % 2 != 0):\n",
    "        print(\"Error, check data_array length\")\n",
    "        return 0\n",
    "    else:\n",
    "        di = [] # массив комплексных чисел\n",
    "        print(\"Start modulation\")\n",
    "        for i in range(0, len(data_array), 2):\n",
    "            b2i = data_array[i]\n",
    "            b2i1 = data_array[i+1]\n",
    "            real = (1 - 2 * b2i) / math.sqrt(2)\n",
    "            imag = (1 - 2 * b2i1) / math.sqrt(2)\n",
    "            di.append(complex(real, imag))\n",
    "        return di\n",
    "    \n",
    "array = randomDataGenerator(10)\n",
    "print(\"1. Generated array = \", array)\n",
    "modulated = QPSK(array)\n",
    "print(\"2. Modulated array = \",modulated)"
   ]
  },
  {
   "cell_type": "code",
   "execution_count": null,
   "id": "b0de56a8",
   "metadata": {},
   "outputs": [],
   "source": []
  }
 ],
 "metadata": {
  "kernelspec": {
   "display_name": "Python 3 (ipykernel)",
   "language": "python",
   "name": "python3"
  },
  "language_info": {
   "codemirror_mode": {
    "name": "ipython",
    "version": 3
   },
   "file_extension": ".py",
   "mimetype": "text/x-python",
   "name": "python",
   "nbconvert_exporter": "python",
   "pygments_lexer": "ipython3",
   "version": "3.10.4"
  }
 },
 "nbformat": 4,
 "nbformat_minor": 5
}
